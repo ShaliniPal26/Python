{
 "cells": [
  {
   "cell_type": "markdown",
   "id": "52f83233",
   "metadata": {},
   "source": [
    "Game for guessing the ball's position"
   ]
  },
  {
   "cell_type": "code",
   "execution_count": 1,
   "id": "f09ca06e",
   "metadata": {},
   "outputs": [],
   "source": [
    "from random import shuffle\n",
    "\n",
    "my_list=['','O','']\n",
    "\n",
    "def user_guess():\n",
    "    '''\n",
    "    Taking users input\n",
    "    '''\n",
    "    guess=''\n",
    "    while guess not in ['0','1','2']:\n",
    "        guess=input(\"Please select a position from 0,1 and 2    :\")\n",
    "    else:\n",
    "        return int(guess)\n",
    "\n",
    "def shuffle_list(list_name):\n",
    "    '''\n",
    "    simply shuffling the list\n",
    "    '''\n",
    "    shuffle(list_name)\n",
    "    return list_name\n",
    "\n",
    "def check_guess(shuffled_list,user_guess):\n",
    "    '''\n",
    "    checks if the user has guessed the correct position of ball\n",
    "    '''\n",
    "    if shuffled_list[user_guess]=='O':\n",
    "        print(\"You guessed it correct\")\n",
    "    else:\n",
    "        print(\"You lose,Better luck next time\")"
   ]
  },
  {
   "cell_type": "code",
   "execution_count": 5,
   "id": "7cfd80f1",
   "metadata": {},
   "outputs": [
    {
     "name": "stdout",
     "output_type": "stream",
     "text": [
      "Please select a position from 0,1 and 2    :4\n",
      "Please select a position from 0,1 and 2    :7\n",
      "Please select a position from 0,1 and 2    :1\n",
      "['O', '', '']\n",
      "You lose,Better luck next time\n"
     ]
    }
   ],
   "source": [
    "guess=user_guess()\n",
    "shuffled_list=shuffle_list(my_list)\n",
    "print(shuffled_list)\n",
    "check_guess(shuffled_list,guess)\n"
   ]
  },
  {
   "cell_type": "code",
   "execution_count": null,
   "id": "4e557cf3",
   "metadata": {},
   "outputs": [],
   "source": []
  }
 ],
 "metadata": {
  "kernelspec": {
   "display_name": "Python 3 (ipykernel)",
   "language": "python",
   "name": "python3"
  },
  "language_info": {
   "codemirror_mode": {
    "name": "ipython",
    "version": 3
   },
   "file_extension": ".py",
   "mimetype": "text/x-python",
   "name": "python",
   "nbconvert_exporter": "python",
   "pygments_lexer": "ipython3",
   "version": "3.11.5"
  }
 },
 "nbformat": 4,
 "nbformat_minor": 5
}
