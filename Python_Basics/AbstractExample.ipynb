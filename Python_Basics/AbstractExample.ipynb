{
 "cells": [
  {
   "cell_type": "code",
   "execution_count": 11,
   "id": "41dcee66",
   "metadata": {},
   "outputs": [],
   "source": [
    "### Files is an abstract classs\n",
    "class Files():\n",
    "    def __init__(self):\n",
    "        print(\"File Created\")\n",
    "        \n",
    "    def speak(self):\n",
    "        raise NotImplementedError(\"Subclass must implement this abstract method\")\n"
   ]
  },
  {
   "cell_type": "code",
   "execution_count": 12,
   "id": "9fb93ca6",
   "metadata": {},
   "outputs": [],
   "source": [
    "class Pdf(Files):\n",
    "    \n",
    "    def open_file(self):\n",
    "        print(\"PDF file created\\n\")\n"
   ]
  },
  {
   "cell_type": "code",
   "execution_count": 13,
   "id": "79511183",
   "metadata": {},
   "outputs": [],
   "source": [
    "class Word(Files):\n",
    "    \n",
    "    def open_file(self):\n",
    "        print(\"Word file created\\n\")"
   ]
  },
  {
   "cell_type": "code",
   "execution_count": 14,
   "id": "12c1e481",
   "metadata": {},
   "outputs": [
    {
     "name": "stdout",
     "output_type": "stream",
     "text": [
      "File Created\n",
      "PDF file created\n",
      "\n",
      "File Created\n",
      "Word file created\n",
      "\n"
     ]
    }
   ],
   "source": [
    "mypdf=Pdf()\n",
    "mypdf.open_file()\n",
    "\n",
    "myword=Word()\n",
    "myword.open_file()"
   ]
  },
  {
   "cell_type": "code",
   "execution_count": null,
   "id": "e0da6064",
   "metadata": {},
   "outputs": [],
   "source": []
  },
  {
   "cell_type": "code",
   "execution_count": null,
   "id": "6affb7c7",
   "metadata": {},
   "outputs": [],
   "source": []
  }
 ],
 "metadata": {
  "kernelspec": {
   "display_name": "Python 3 (ipykernel)",
   "language": "python",
   "name": "python3"
  },
  "language_info": {
   "codemirror_mode": {
    "name": "ipython",
    "version": 3
   },
   "file_extension": ".py",
   "mimetype": "text/x-python",
   "name": "python",
   "nbconvert_exporter": "python",
   "pygments_lexer": "ipython3",
   "version": "3.10.9"
  }
 },
 "nbformat": 4,
 "nbformat_minor": 5
}
