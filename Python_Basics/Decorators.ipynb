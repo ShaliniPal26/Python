{
 "cells": [
  {
   "cell_type": "markdown",
   "id": "46df13aa",
   "metadata": {},
   "source": [
    "<center><h1 style=\"color:red;background-color:cyan\"> Decorators </h1></center>"
   ]
  },
  {
   "cell_type": "code",
   "execution_count": 6,
   "id": "ab411765",
   "metadata": {},
   "outputs": [],
   "source": [
    "def some_decorator_func(some_func):\n",
    "    print(\"some_decorator_func, Before some_func\")\n",
    "    some_func()\n",
    "    print(\"some_decorator_func, After some_func\")"
   ]
  },
  {
   "cell_type": "code",
   "execution_count": 7,
   "id": "4ba532ee",
   "metadata": {},
   "outputs": [
    {
     "name": "stdout",
     "output_type": "stream",
     "text": [
      "some_decorator_func, Before some_func\n",
      "I am in my_func\n",
      "some_decorator_func, After some_func\n"
     ]
    }
   ],
   "source": [
    "@some_decorator_func\n",
    "def my_func():\n",
    "    print(\"I am in my_func\")"
   ]
  },
  {
   "cell_type": "code",
   "execution_count": null,
   "id": "fab93455",
   "metadata": {},
   "outputs": [],
   "source": []
  }
 ],
 "metadata": {
  "kernelspec": {
   "display_name": "Python 3 (ipykernel)",
   "language": "python",
   "name": "python3"
  },
  "language_info": {
   "codemirror_mode": {
    "name": "ipython",
    "version": 3
   },
   "file_extension": ".py",
   "mimetype": "text/x-python",
   "name": "python",
   "nbconvert_exporter": "python",
   "pygments_lexer": "ipython3",
   "version": "3.11.5"
  }
 },
 "nbformat": 4,
 "nbformat_minor": 5
}
