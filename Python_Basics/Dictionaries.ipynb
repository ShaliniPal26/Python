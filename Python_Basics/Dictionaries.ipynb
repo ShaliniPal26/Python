{
 "cells": [
  {
   "cell_type": "markdown",
   "id": "2d103648",
   "metadata": {},
   "source": [
    "<center><h1 style=\"color:blue;background-color:yellow\"> Dictionaries </h1></center>"
   ]
  },
  {
   "cell_type": "code",
   "execution_count": 1,
   "id": "1bba8d03",
   "metadata": {},
   "outputs": [
    {
     "name": "stdout",
     "output_type": "stream",
     "text": [
      "{1: 'one', 2: 'two', 3: 'three', 4: 'four', 5: {5: 'five'}, 6: ['six1', 'six2']}\n"
     ]
    }
   ],
   "source": [
    "d={1:'one',2:'two',3:'three',4:'four',5:{5:'five'},6:['six1','six2']}\n",
    "print(d)"
   ]
  },
  {
   "cell_type": "code",
   "execution_count": 2,
   "id": "28326465",
   "metadata": {},
   "outputs": [
    {
     "name": "stdout",
     "output_type": "stream",
     "text": [
      "one\n"
     ]
    }
   ],
   "source": [
    "print(d[1])"
   ]
  },
  {
   "cell_type": "code",
   "execution_count": 3,
   "id": "8ee43389",
   "metadata": {},
   "outputs": [
    {
     "name": "stdout",
     "output_type": "stream",
     "text": [
      "five\n"
     ]
    }
   ],
   "source": [
    "print(d[5][5])"
   ]
  },
  {
   "cell_type": "code",
   "execution_count": 4,
   "id": "f96999a7",
   "metadata": {},
   "outputs": [
    {
     "name": "stdout",
     "output_type": "stream",
     "text": [
      "six2\n"
     ]
    }
   ],
   "source": [
    "print(d[6][1])"
   ]
  },
  {
   "cell_type": "code",
   "execution_count": 5,
   "id": "de0cca03",
   "metadata": {},
   "outputs": [
    {
     "name": "stdout",
     "output_type": "stream",
     "text": [
      "dict_keys([1, 2, 3, 4, 5, 6])\n"
     ]
    }
   ],
   "source": [
    "print(d.keys())"
   ]
  },
  {
   "cell_type": "code",
   "execution_count": 6,
   "id": "8e0583de",
   "metadata": {},
   "outputs": [
    {
     "name": "stdout",
     "output_type": "stream",
     "text": [
      "dict_values(['one', 'two', 'three', 'four', {5: 'five'}, ['six1', 'six2']])\n"
     ]
    }
   ],
   "source": [
    "print(d.values())"
   ]
  },
  {
   "cell_type": "code",
   "execution_count": 7,
   "id": "c67a8eee",
   "metadata": {},
   "outputs": [
    {
     "data": {
      "text/plain": [
       "dict_items([(1, 'one'), (2, 'two'), (3, 'three'), (4, 'four'), (5, {5: 'five'}), (6, ['six1', 'six2'])])"
      ]
     },
     "execution_count": 7,
     "metadata": {},
     "output_type": "execute_result"
    }
   ],
   "source": [
    "d.items()"
   ]
  },
  {
   "cell_type": "code",
   "execution_count": 9,
   "id": "dd8f0295",
   "metadata": {},
   "outputs": [
    {
     "data": {
      "text/plain": [
       "True"
      ]
     },
     "execution_count": 9,
     "metadata": {},
     "output_type": "execute_result"
    }
   ],
   "source": [
    "all(d) #returns true if all the keys in dictionary are true"
   ]
  },
  {
   "cell_type": "markdown",
   "id": "19921fff",
   "metadata": {},
   "source": [
    "Note that the result of all the aboce methods is a TUPLE"
   ]
  },
  {
   "cell_type": "code",
   "execution_count": 10,
   "id": "fd68f10b",
   "metadata": {},
   "outputs": [
    {
     "data": {
      "text/plain": [
       "6"
      ]
     },
     "execution_count": 10,
     "metadata": {},
     "output_type": "execute_result"
    }
   ],
   "source": [
    "len(d)"
   ]
  },
  {
   "cell_type": "code",
   "execution_count": 15,
   "id": "d879bc2c",
   "metadata": {},
   "outputs": [],
   "source": [
    "d1={1:'one',2:'two',3:['a','b'],'a':1,'b':2}"
   ]
  },
  {
   "cell_type": "code",
   "execution_count": 18,
   "id": "c350fdb0",
   "metadata": {},
   "outputs": [
    {
     "data": {
      "text/plain": [
       "[1, 2, 3, 4, 5, 6]"
      ]
     },
     "execution_count": 18,
     "metadata": {},
     "output_type": "execute_result"
    }
   ],
   "source": [
    "sorted(d) #returns sorted list according to the keys"
   ]
  },
  {
   "cell_type": "code",
   "execution_count": 20,
   "id": "c0dc1223",
   "metadata": {},
   "outputs": [],
   "source": [
    "# sorted(d1) #willnot work for d1 as it contains different datatype for keys"
   ]
  },
  {
   "cell_type": "code",
   "execution_count": 21,
   "id": "18d29e3d",
   "metadata": {},
   "outputs": [],
   "source": [
    "d.update(d1)"
   ]
  },
  {
   "cell_type": "code",
   "execution_count": 22,
   "id": "6a44e517",
   "metadata": {},
   "outputs": [
    {
     "data": {
      "text/plain": [
       "{1: 'one',\n",
       " 2: 'two',\n",
       " 3: ['a', 'b'],\n",
       " 4: 'four',\n",
       " 5: {5: 'five'},\n",
       " 6: ['six1', 'six2'],\n",
       " 'a': 1,\n",
       " 'b': 2}"
      ]
     },
     "execution_count": 22,
     "metadata": {},
     "output_type": "execute_result"
    }
   ],
   "source": [
    "d"
   ]
  }
 ],
 "metadata": {
  "kernelspec": {
   "display_name": "Python 3 (ipykernel)",
   "language": "python",
   "name": "python3"
  },
  "language_info": {
   "codemirror_mode": {
    "name": "ipython",
    "version": 3
   },
   "file_extension": ".py",
   "mimetype": "text/x-python",
   "name": "python",
   "nbconvert_exporter": "python",
   "pygments_lexer": "ipython3",
   "version": "3.11.5"
  }
 },
 "nbformat": 4,
 "nbformat_minor": 5
}
