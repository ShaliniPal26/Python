{
 "cells": [
  {
   "cell_type": "code",
   "execution_count": 1,
   "id": "c6ae8486",
   "metadata": {},
   "outputs": [],
   "source": [
    "class Dog():\n",
    "    \n",
    "    def __init__(self,name,gender,breed):\n",
    "        self.name=name\n",
    "        self.gender=gender\n",
    "        self.breed=breed"
   ]
  },
  {
   "cell_type": "code",
   "execution_count": 2,
   "id": "4fadfaf5",
   "metadata": {},
   "outputs": [],
   "source": [
    "Sammy=Dog(\"Sammy\",\"Male\",\"Lab\")"
   ]
  },
  {
   "cell_type": "code",
   "execution_count": 3,
   "id": "1dc05caf",
   "metadata": {},
   "outputs": [
    {
     "data": {
      "text/plain": [
       "<__main__.Dog at 0x2546b8c8670>"
      ]
     },
     "execution_count": 3,
     "metadata": {},
     "output_type": "execute_result"
    }
   ],
   "source": [
    "Sammy"
   ]
  },
  {
   "cell_type": "code",
   "execution_count": 4,
   "id": "894560b0",
   "metadata": {},
   "outputs": [
    {
     "data": {
      "text/plain": [
       "'Lab'"
      ]
     },
     "execution_count": 4,
     "metadata": {},
     "output_type": "execute_result"
    }
   ],
   "source": [
    "Sammy.breed"
   ]
  },
  {
   "cell_type": "code",
   "execution_count": 5,
   "id": "07ea6b12",
   "metadata": {},
   "outputs": [
    {
     "data": {
      "text/plain": [
       "'Male'"
      ]
     },
     "execution_count": 5,
     "metadata": {},
     "output_type": "execute_result"
    }
   ],
   "source": [
    "Sammy.gender"
   ]
  },
  {
   "cell_type": "code",
   "execution_count": 6,
   "id": "66e1f79a",
   "metadata": {},
   "outputs": [
    {
     "data": {
      "text/plain": [
       "'Sammy'"
      ]
     },
     "execution_count": 6,
     "metadata": {},
     "output_type": "execute_result"
    }
   ],
   "source": [
    "Sammy.name"
   ]
  },
  {
   "cell_type": "code",
   "execution_count": null,
   "id": "9f3246bf",
   "metadata": {},
   "outputs": [],
   "source": []
  }
 ],
 "metadata": {
  "kernelspec": {
   "display_name": "Python 3 (ipykernel)",
   "language": "python",
   "name": "python3"
  },
  "language_info": {
   "codemirror_mode": {
    "name": "ipython",
    "version": 3
   },
   "file_extension": ".py",
   "mimetype": "text/x-python",
   "name": "python",
   "nbconvert_exporter": "python",
   "pygments_lexer": "ipython3",
   "version": "3.10.9"
  }
 },
 "nbformat": 4,
 "nbformat_minor": 5
}
