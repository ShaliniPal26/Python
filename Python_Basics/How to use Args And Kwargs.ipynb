{
 "cells": [
  {
   "cell_type": "code",
   "execution_count": 1,
   "id": "d903601a",
   "metadata": {},
   "outputs": [
    {
     "data": {
      "text/plain": [
       "570"
      ]
     },
     "execution_count": 1,
     "metadata": {},
     "output_type": "execute_result"
    }
   ],
   "source": [
    "#using *args alone\n",
    "\n",
    "def func(*args):\n",
    "    return sum(args)\n",
    "\n",
    "func(1,2,567)"
   ]
  },
  {
   "cell_type": "code",
   "execution_count": null,
   "id": "5bd150cc",
   "metadata": {},
   "outputs": [],
   "source": []
  },
  {
   "cell_type": "code",
   "execution_count": 2,
   "id": "b18b8d11",
   "metadata": {},
   "outputs": [
    {
     "name": "stdout",
     "output_type": "stream",
     "text": [
      "{'name_one': 'Shalini', 'name_two': 'Avika', 'name_three': 'Ganga', 'name_four': 'Dhruv'}\n",
      "\n",
      "\n",
      "Hello Dhruv\n"
     ]
    }
   ],
   "source": [
    "#using *kwargs alone\n",
    "\n",
    "def func1(**kwargs):\n",
    "    print(kwargs)\n",
    "    print('\\n')\n",
    "    print(\"Hello {}\".format(kwargs['name_four']))\n",
    "    \n",
    "\n",
    "func1(name_one='Shalini',name_two='Avika',name_three='Ganga',name_four='Dhruv')"
   ]
  },
  {
   "cell_type": "code",
   "execution_count": null,
   "id": "54e8874b",
   "metadata": {},
   "outputs": [],
   "source": []
  },
  {
   "cell_type": "code",
   "execution_count": 3,
   "id": "4c7ce75b",
   "metadata": {},
   "outputs": [
    {
     "name": "stdout",
     "output_type": "stream",
     "text": [
      "(1, 2, 3, 4) {'fruit': 'apple', 'vegetable': 'potato'}\n"
     ]
    }
   ],
   "source": [
    "## Using *args and *kwargs\n",
    "\n",
    "\n",
    "def func3(*args,**kwargs):\n",
    "    print(args,kwargs)\n",
    "    \n",
    "\n",
    "func3(1,2,3,4,fruit='apple',vegetable='potato')"
   ]
  },
  {
   "cell_type": "code",
   "execution_count": 4,
   "id": "c15a6216",
   "metadata": {},
   "outputs": [],
   "source": [
    "def myfunc(s):\n",
    "    newstring=''\n",
    "    for x in s:\n",
    "        #print(x)\n",
    "        if ((s.index(x))%2==0):\n",
    "            newstring=newstring+(x.capitalize())\n",
    "        else:\n",
    "            newstring=newstring+(x.lower())\n",
    "    \n",
    "    return newstring"
   ]
  },
  {
   "cell_type": "code",
   "execution_count": 48,
   "id": "fb9337ff",
   "metadata": {},
   "outputs": [
    {
     "data": {
      "text/plain": [
       "'ShAlInI'"
      ]
     },
     "execution_count": 48,
     "metadata": {},
     "output_type": "execute_result"
    }
   ],
   "source": [
    "myfunc(\"Shalini\")"
   ]
  },
  {
   "cell_type": "code",
   "execution_count": 49,
   "id": "7e466859",
   "metadata": {},
   "outputs": [
    {
     "name": "stdout",
     "output_type": "stream",
     "text": [
      "SHALINI\n"
     ]
    }
   ],
   "source": [
    "print(s)"
   ]
  },
  {
   "cell_type": "code",
   "execution_count": null,
   "id": "0850bcfe",
   "metadata": {},
   "outputs": [],
   "source": [
    "s.casefold"
   ]
  },
  {
   "cell_type": "code",
   "execution_count": 44,
   "id": "8e2407b8",
   "metadata": {},
   "outputs": [
    {
     "name": "stdout",
     "output_type": "stream",
     "text": [
      "shalini\n"
     ]
    }
   ],
   "source": [
    "s=s.lower()\n",
    "print(s)"
   ]
  }
 ],
 "metadata": {
  "kernelspec": {
   "display_name": "Python 3 (ipykernel)",
   "language": "python",
   "name": "python3"
  },
  "language_info": {
   "codemirror_mode": {
    "name": "ipython",
    "version": 3
   },
   "file_extension": ".py",
   "mimetype": "text/x-python",
   "name": "python",
   "nbconvert_exporter": "python",
   "pygments_lexer": "ipython3",
   "version": "3.11.5"
  }
 },
 "nbformat": 4,
 "nbformat_minor": 5
}
