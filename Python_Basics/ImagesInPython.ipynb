{
 "cells": [
  {
   "cell_type": "markdown",
   "id": "b30faaf8",
   "metadata": {},
   "source": [
    "<center><h1 style='color:Red;background-color:Yellow'> Images with Pillow Library </h1></center>"
   ]
  },
  {
   "cell_type": "code",
   "execution_count": null,
   "id": "2a2141f1",
   "metadata": {},
   "outputs": [],
   "source": [
    "from PIL import Image"
   ]
  },
  {
   "cell_type": "code",
   "execution_count": null,
   "id": "a7ccc5b7",
   "metadata": {},
   "outputs": [],
   "source": [
    "python = Image.open('Python.JPG')"
   ]
  },
  {
   "cell_type": "code",
   "execution_count": null,
   "id": "d1a839ac",
   "metadata": {},
   "outputs": [],
   "source": [
    "python"
   ]
  },
  {
   "cell_type": "markdown",
   "id": "9969d27b",
   "metadata": {},
   "source": [
    "# Properties of Image"
   ]
  },
  {
   "cell_type": "code",
   "execution_count": null,
   "id": "4688563f",
   "metadata": {},
   "outputs": [],
   "source": [
    "print(f\"Width :{python.width} \\nHeight:{python.height} \\nFormat:{python.format}\")\n",
    "print(f\"Format Description:{python.format_description} \\nBits:{python.bits} \\nPallete:{python.palette} \\nMode:{python.mode}\")"
   ]
  },
  {
   "cell_type": "markdown",
   "id": "5b264e46",
   "metadata": {},
   "source": [
    "# Operations on Images"
   ]
  },
  {
   "cell_type": "code",
   "execution_count": null,
   "id": "4a6cadee",
   "metadata": {},
   "outputs": [],
   "source": [
    "'''\n",
    "Using the thumbnail() function, the image is resized to keep its aspect ratio.\n",
    "This takes two values representing the maximum width and maximum height of the thumbnail.\n",
    "'''\n",
    "\n",
    "image = Image.open('Python.jpg')\n",
    "image.thumbnail((200, 200))\n",
    "image.save('sample_thumbnail.jpg')"
   ]
  },
  {
   "cell_type": "code",
   "execution_count": null,
   "id": "42905db1",
   "metadata": {},
   "outputs": [],
   "source": [
    "image = Image.open('Python.jpg')\n",
    "\n",
    "image = image.transpose(Image.FLIP_TOP_BOTTOM)\n",
    "image"
   ]
  },
  {
   "cell_type": "code",
   "execution_count": null,
   "id": "41d5919a",
   "metadata": {},
   "outputs": [],
   "source": [
    "image = Image.open('Python.jpg')\n",
    "\n",
    "image.rotate(90)"
   ]
  },
  {
   "cell_type": "code",
   "execution_count": null,
   "id": "49916ec3",
   "metadata": {},
   "outputs": [],
   "source": [
    "image.convert('L')"
   ]
  },
  {
   "cell_type": "markdown",
   "id": "4eaf1de1",
   "metadata": {},
   "source": [
    "# Using Image Filter"
   ]
  },
  {
   "cell_type": "code",
   "execution_count": null,
   "id": "b9b9c731",
   "metadata": {},
   "outputs": [],
   "source": [
    "from PIL import Image, ImageFilter"
   ]
  },
  {
   "cell_type": "code",
   "execution_count": null,
   "id": "b1c1b351",
   "metadata": {},
   "outputs": [],
   "source": [
    "image.filter(ImageFilter.FIND_EDGES)"
   ]
  },
  {
   "cell_type": "code",
   "execution_count": null,
   "id": "ea2d2478",
   "metadata": {},
   "outputs": [],
   "source": [
    "image.filter(ImageFilter.CONTOUR)"
   ]
  },
  {
   "cell_type": "code",
   "execution_count": null,
   "id": "087ccb1a",
   "metadata": {},
   "outputs": [],
   "source": [
    "image.filter(ImageFilter.EMBOSS)"
   ]
  },
  {
   "cell_type": "code",
   "execution_count": null,
   "id": "adf2e008",
   "metadata": {},
   "outputs": [],
   "source": [
    "image.filter(ImageFilter.SMOOTH)\n",
    "image.filter(ImageFilter.SMOOTH_MORE)"
   ]
  }
 ],
 "metadata": {
  "kernelspec": {
   "display_name": "Python 3 (ipykernel)",
   "language": "python",
   "name": "python3"
  },
  "language_info": {
   "codemirror_mode": {
    "name": "ipython",
    "version": 3
   },
   "file_extension": ".py",
   "mimetype": "text/x-python",
   "name": "python",
   "nbconvert_exporter": "python",
   "pygments_lexer": "ipython3",
   "version": "3.11.5"
  }
 },
 "nbformat": 4,
 "nbformat_minor": 5
}
