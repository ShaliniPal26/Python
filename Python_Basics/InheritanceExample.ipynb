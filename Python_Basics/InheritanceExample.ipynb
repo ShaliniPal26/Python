{
 "cells": [
  {
   "cell_type": "code",
   "execution_count": 28,
   "id": "03813b11",
   "metadata": {},
   "outputs": [],
   "source": [
    "class Animal():\n",
    "    \n",
    "    def __init__(self):\n",
    "        print(\"Animal created\")"
   ]
  },
  {
   "cell_type": "code",
   "execution_count": 29,
   "id": "e790da13",
   "metadata": {},
   "outputs": [],
   "source": [
    "class Dog(Animal):\n",
    "    \n",
    "    def __init__(self):\n",
    "        Animal.__init__(self)\n",
    "        print(\"Dog created\")\n",
    "        \n",
    "    def speak(self):\n",
    "        print(\"Woof!!\\n\")"
   ]
  },
  {
   "cell_type": "code",
   "execution_count": 30,
   "id": "c6a3d08b",
   "metadata": {},
   "outputs": [],
   "source": [
    "class Cat(Animal):\n",
    "    \n",
    "    def __init__(self):\n",
    "        Animal.__init__(self)\n",
    "        print(\"Cat created\")\n",
    "    \n",
    "    def speak(self):\n",
    "        print(\"Meeoow !!!\\n\")"
   ]
  },
  {
   "cell_type": "code",
   "execution_count": 32,
   "id": "15fca427",
   "metadata": {},
   "outputs": [
    {
     "name": "stdout",
     "output_type": "stream",
     "text": [
      "Animal created\n",
      "Dog created\n",
      "Woof!!\n",
      "\n",
      "Animal created\n",
      "Cat created\n",
      "Meeoow !!!\n",
      "\n"
     ]
    }
   ],
   "source": [
    "MyDog=Dog()\n",
    "MyDog.speak()\n",
    "\n",
    "MyCat=Cat()\n",
    "MyCat.speak()"
   ]
  },
  {
   "cell_type": "code",
   "execution_count": null,
   "id": "7ef7695c",
   "metadata": {},
   "outputs": [],
   "source": []
  }
 ],
 "metadata": {
  "kernelspec": {
   "display_name": "Python 3 (ipykernel)",
   "language": "python",
   "name": "python3"
  },
  "language_info": {
   "codemirror_mode": {
    "name": "ipython",
    "version": 3
   },
   "file_extension": ".py",
   "mimetype": "text/x-python",
   "name": "python",
   "nbconvert_exporter": "python",
   "pygments_lexer": "ipython3",
   "version": "3.10.9"
  }
 },
 "nbformat": 4,
 "nbformat_minor": 5
}
