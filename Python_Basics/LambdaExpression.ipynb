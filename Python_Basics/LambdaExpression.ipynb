{
 "cells": [
  {
   "cell_type": "code",
   "execution_count": 3,
   "id": "743385cb",
   "metadata": {},
   "outputs": [],
   "source": [
    "def square(a):\n",
    "    return Aa**2"
   ]
  },
  {
   "cell_type": "code",
   "execution_count": 4,
   "id": "c98c7490",
   "metadata": {},
   "outputs": [
    {
     "data": {
      "text/plain": [
       "9"
      ]
     },
     "execution_count": 4,
     "metadata": {},
     "output_type": "execute_result"
    }
   ],
   "source": [
    "#------- Insteads of abpove i can write a lambda function which is a one liner --------#\n",
    "\n",
    "square=lambda a:a**2\n",
    "square(3)"
   ]
  },
  {
   "cell_type": "code",
   "execution_count": null,
   "id": "91d80f87",
   "metadata": {},
   "outputs": [],
   "source": []
  }
 ],
 "metadata": {
  "kernelspec": {
   "display_name": "Python 3 (ipykernel)",
   "language": "python",
   "name": "python3"
  },
  "language_info": {
   "codemirror_mode": {
    "name": "ipython",
    "version": 3
   },
   "file_extension": ".py",
   "mimetype": "text/x-python",
   "name": "python",
   "nbconvert_exporter": "python",
   "pygments_lexer": "ipython3",
   "version": "3.10.9"
  }
 },
 "nbformat": 4,
 "nbformat_minor": 5
}
