{
 "cells": [
  {
   "cell_type": "code",
   "execution_count": 1,
   "id": "98c1697f",
   "metadata": {},
   "outputs": [],
   "source": [
    "import pdb"
   ]
  },
  {
   "cell_type": "code",
   "execution_count": 2,
   "id": "3b5e5f02",
   "metadata": {},
   "outputs": [],
   "source": [
    "x=[1,2,3]\n",
    "y=2\n",
    "z=3"
   ]
  },
  {
   "cell_type": "code",
   "execution_count": 4,
   "id": "ed8061b7",
   "metadata": {},
   "outputs": [
    {
     "name": "stdout",
     "output_type": "stream",
     "text": [
      "--Return--\n",
      "None\n",
      "> \u001b[1;32mc:\\users\\admin\\appdata\\local\\temp\\ipykernel_5604\\124487652.py\u001b[0m(3)\u001b[0;36m<module>\u001b[1;34m()\u001b[0m\n",
      "\n",
      "ipdb> x\n",
      "[1, 2, 3]\n",
      "ipdb> y\n",
      "2\n",
      "ipdb> 2+@\n",
      "*** SyntaxError: invalid syntax\n",
      "ipdb> 2+2\n",
      "4\n",
      "ipdb> z\n",
      "3\n",
      "ipdb> result1\n",
      "5\n",
      "ipdb> result2\n",
      "*** NameError: name 'result2' is not defined\n",
      "ipdb> q\n"
     ]
    }
   ],
   "source": [
    "result1=y+z\n",
    "\n",
    "pdb.set_trace()\n",
    "\n",
    "result2=x+y\n",
    "print(result1)\n",
    "print(result2)"
   ]
  },
  {
   "cell_type": "markdown",
   "id": "49280be2",
   "metadata": {},
   "source": [
    "pdb.set_trace helps you find/understand errors in your program by showing you the values of every variable through an input box"
   ]
  },
  {
   "cell_type": "code",
   "execution_count": null,
   "id": "85e9f65f",
   "metadata": {},
   "outputs": [],
   "source": []
  }
 ],
 "metadata": {
  "kernelspec": {
   "display_name": "Python 3 (ipykernel)",
   "language": "python",
   "name": "python3"
  },
  "language_info": {
   "codemirror_mode": {
    "name": "ipython",
    "version": 3
   },
   "file_extension": ".py",
   "mimetype": "text/x-python",
   "name": "python",
   "nbconvert_exporter": "python",
   "pygments_lexer": "ipython3",
   "version": "3.10.9"
  }
 },
 "nbformat": 4,
 "nbformat_minor": 5
}
