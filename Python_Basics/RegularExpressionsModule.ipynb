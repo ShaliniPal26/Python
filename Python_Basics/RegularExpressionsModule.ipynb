{
 "cells": [
  {
   "cell_type": "code",
   "execution_count": 1,
   "id": "aff808e0",
   "metadata": {},
   "outputs": [],
   "source": [
    "import re"
   ]
  },
  {
   "cell_type": "code",
   "execution_count": 6,
   "id": "13a1f4b3",
   "metadata": {},
   "outputs": [],
   "source": [
    "text= 'Soft kitty,pretty kitty,little ball of fur,pretty kitty,lovely kitty,purr purr purr'\n",
    "result=re.search('kitty',text)"
   ]
  },
  {
   "cell_type": "code",
   "execution_count": 7,
   "id": "c83a4f9a",
   "metadata": {},
   "outputs": [
    {
     "name": "stdout",
     "output_type": "stream",
     "text": [
      "<re.Match object; span=(5, 10), match='kitty'>\n"
     ]
    }
   ],
   "source": [
    "print(result)"
   ]
  },
  {
   "cell_type": "code",
   "execution_count": 12,
   "id": "d10be320",
   "metadata": {},
   "outputs": [
    {
     "data": {
      "text/plain": [
       "10"
      ]
     },
     "execution_count": 12,
     "metadata": {},
     "output_type": "execute_result"
    }
   ],
   "source": [
    "result.end() ##returns the ending index of pattern"
   ]
  },
  {
   "cell_type": "code",
   "execution_count": 13,
   "id": "211229a3",
   "metadata": {},
   "outputs": [
    {
     "data": {
      "text/plain": [
       "(5, 10)"
      ]
     },
     "execution_count": 13,
     "metadata": {},
     "output_type": "execute_result"
    }
   ],
   "source": [
    "result.span()"
   ]
  },
  {
   "cell_type": "code",
   "execution_count": 14,
   "id": "13e67af5",
   "metadata": {},
   "outputs": [
    {
     "data": {
      "text/plain": [
       "5"
      ]
     },
     "execution_count": 14,
     "metadata": {},
     "output_type": "execute_result"
    }
   ],
   "source": [
    "result.start() #returns the starting index of pattern"
   ]
  },
  {
   "cell_type": "code",
   "execution_count": 15,
   "id": "fc749792",
   "metadata": {},
   "outputs": [],
   "source": [
    "result=re.findall('kitty',text)"
   ]
  },
  {
   "cell_type": "code",
   "execution_count": 20,
   "id": "d2fc9f6f",
   "metadata": {},
   "outputs": [
    {
     "data": {
      "text/plain": [
       "['kitty', 'kitty', 'kitty', 'kitty']"
      ]
     },
     "execution_count": 20,
     "metadata": {},
     "output_type": "execute_result"
    }
   ],
   "source": [
    "result"
   ]
  },
  {
   "cell_type": "code",
   "execution_count": 36,
   "id": "e0d89889",
   "metadata": {},
   "outputs": [
    {
     "name": "stdout",
     "output_type": "stream",
     "text": [
      "<callable_iterator object at 0x0000016E3ECA69B0>\n"
     ]
    }
   ],
   "source": []
  },
  {
   "cell_type": "code",
   "execution_count": 40,
   "id": "4fbdd192",
   "metadata": {},
   "outputs": [
    {
     "name": "stdout",
     "output_type": "stream",
     "text": [
      "<callable_iterator object at 0x0000016E40090F10>\n",
      "<built-in method span of re.Match object at 0x0000016E410D22C0>\n",
      "<built-in method span of re.Match object at 0x0000016E410D21C0>\n",
      "<built-in method span of re.Match object at 0x0000016E410D22C0>\n",
      "<built-in method span of re.Match object at 0x0000016E410D21C0>\n"
     ]
    }
   ],
   "source": [
    "result=re.finditer('kitty',text)\n",
    "print(result)\n",
    "\n",
    "for r in result:\n",
    "    print(r.span)"
   ]
  },
  {
   "cell_type": "code",
   "execution_count": 35,
   "id": "d66c2a77",
   "metadata": {},
   "outputs": [
    {
     "name": "stdout",
     "output_type": "stream",
     "text": [
      "Hllo\n"
     ]
    }
   ],
   "source": [
    "print('Hllo')"
   ]
  },
  {
   "cell_type": "code",
   "execution_count": null,
   "id": "e3962b2a",
   "metadata": {},
   "outputs": [],
   "source": []
  },
  {
   "cell_type": "code",
   "execution_count": 19,
   "id": "c67345c8",
   "metadata": {},
   "outputs": [],
   "source": [
    "import re"
   ]
  },
  {
   "cell_type": "code",
   "execution_count": 20,
   "id": "947ffc5d",
   "metadata": {},
   "outputs": [],
   "source": [
    "text='The phone number is 444-555-666'"
   ]
  },
  {
   "cell_type": "code",
   "execution_count": 28,
   "id": "e16cea41",
   "metadata": {},
   "outputs": [],
   "source": [
    "result = re.search(r'(\\d+)-(\\d{3})-(\\d{3})',text)"
   ]
  },
  {
   "cell_type": "code",
   "execution_count": 31,
   "id": "47208a1e",
   "metadata": {},
   "outputs": [
    {
     "data": {
      "text/plain": [
       "'444'"
      ]
     },
     "execution_count": 31,
     "metadata": {},
     "output_type": "execute_result"
    }
   ],
   "source": [
    "result.group(1)"
   ]
  },
  {
   "cell_type": "code",
   "execution_count": 32,
   "id": "40836f05",
   "metadata": {},
   "outputs": [
    {
     "data": {
      "text/plain": [
       "'555'"
      ]
     },
     "execution_count": 32,
     "metadata": {},
     "output_type": "execute_result"
    }
   ],
   "source": [
    "result.group(2)"
   ]
  },
  {
   "cell_type": "code",
   "execution_count": 33,
   "id": "3ec2abdf",
   "metadata": {},
   "outputs": [
    {
     "data": {
      "text/plain": [
       "'666'"
      ]
     },
     "execution_count": 33,
     "metadata": {},
     "output_type": "execute_result"
    }
   ],
   "source": [
    "result.group(3)"
   ]
  },
  {
   "cell_type": "code",
   "execution_count": 25,
   "id": "38b6e407",
   "metadata": {},
   "outputs": [
    {
     "data": {
      "text/plain": [
       "<re.Match object; span=(4, 9), match='phone'>"
      ]
     },
     "execution_count": 25,
     "metadata": {},
     "output_type": "execute_result"
    }
   ],
   "source": [
    "re.search(\"phone\",text)"
   ]
  },
  {
   "cell_type": "raw",
   "id": "1f2ccbe1",
   "metadata": {},
   "source": []
  },
  {
   "cell_type": "code",
   "execution_count": 35,
   "id": "da3cce67",
   "metadata": {},
   "outputs": [
    {
     "data": {
      "text/plain": [
       "<re.Match object; span=(20, 31), match='444-555-666'>"
      ]
     },
     "execution_count": 35,
     "metadata": {},
     "output_type": "execute_result"
    }
   ],
   "source": [
    "re.search('444-555-666',text)\n"
   ]
  }
 ],
 "metadata": {
  "kernelspec": {
   "display_name": "Python 3 (ipykernel)",
   "language": "python",
   "name": "python3"
  },
  "language_info": {
   "codemirror_mode": {
    "name": "ipython",
    "version": 3
   },
   "file_extension": ".py",
   "mimetype": "text/x-python",
   "name": "python",
   "nbconvert_exporter": "python",
   "pygments_lexer": "ipython3",
   "version": "3.11.5"
  }
 },
 "nbformat": 4,
 "nbformat_minor": 5
}
