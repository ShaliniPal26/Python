{
 "cells": [
  {
   "cell_type": "markdown",
   "id": "5f321afe",
   "metadata": {},
   "source": [
    "<center> <h1 style=\"background-color:orange; color:white\"><br> SLEEP IN<br></h1></center>"
   ]
  },
  {
   "cell_type": "code",
   "execution_count": null,
   "id": "b1b8b460",
   "metadata": {},
   "outputs": [],
   "source": [
    "'''\n",
    "F,F -True\n",
    "T,F=False\n",
    "F,T=T\n",
    "T,T =T\n",
    "'''\n",
    "weekdays = ['monday','tuesday','wednesday','thursday','friday']\n",
    "weekends = ['saturday','sunday']\n",
    "sleep=False\n",
    "\n",
    "def sleep_in():\n",
    "    '''\n",
    "    Prints the specifis messsage according to the day and if you are vacation\n",
    "    '''\n",
    "    check=True\n",
    "    \n",
    "    while check:\n",
    "        day=(input(\"What day is it today? \")).lower()\n",
    "        vac_on=(input(\"Are you on a vacation (yes/no)\")).lower()\n",
    "            \n",
    "        if day in weekdays:\n",
    "            if vac_on=='no':\n",
    "                print(f\"It is {day} and you are not on Vacation,GET UP\")\n",
    "            elif vac_on=='yes':\n",
    "                print(f\"It is {day} But you are on Vacation,You may sleep in Zzzzzz!\")\n",
    "            check=False\n",
    "            \n",
    "        elif day in weekends:\n",
    "            if vac_on=='no':\n",
    "                print(f\"it is {day} and you are not on vacation,But you may sleep in Zzzzzzz!\")\n",
    "            elif vac_on=='yes':\n",
    "                print(f\"It is {day} and also you are on vacation, You may sleep in Zzzzz!\")\n",
    "            check=False\n",
    "        else:\n",
    "            print(\"Please enter a valid option!!!\")"
   ]
  },
  {
   "cell_type": "code",
   "execution_count": null,
   "id": "d65708da",
   "metadata": {},
   "outputs": [],
   "source": [
    "sleep_in()"
   ]
  },
  {
   "cell_type": "code",
   "execution_count": null,
   "id": "816d99ea",
   "metadata": {},
   "outputs": [],
   "source": []
  }
 ],
 "metadata": {
  "kernelspec": {
   "display_name": "Python 3 (ipykernel)",
   "language": "python",
   "name": "python3"
  },
  "language_info": {
   "codemirror_mode": {
    "name": "ipython",
    "version": 3
   },
   "file_extension": ".py",
   "mimetype": "text/x-python",
   "name": "python",
   "nbconvert_exporter": "python",
   "pygments_lexer": "ipython3",
   "version": "3.11.5"
  }
 },
 "nbformat": 4,
 "nbformat_minor": 5
}
