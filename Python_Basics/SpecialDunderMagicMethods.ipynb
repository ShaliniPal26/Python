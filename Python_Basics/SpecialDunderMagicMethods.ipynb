{
 "cells": [
  {
   "cell_type": "code",
   "execution_count": 1,
   "id": "e1bbf00c",
   "metadata": {},
   "outputs": [],
   "source": [
    "class Book():\n",
    "    \n",
    "    def __init__(self,name,author,pages):\n",
    "        self.name=name\n",
    "        self.author=author\n",
    "        self.pages=pages\n",
    "    \n",
    "    def __str__(self):\n",
    "        return \"{} by {}\".format(self.name,self.author)\n",
    "    \n",
    "    def __len__(self):\n",
    "        return self.pages\n",
    "    \n",
    "    def __del__(self):\n",
    "        return \"Book has been Deleted\""
   ]
  },
  {
   "cell_type": "code",
   "execution_count": 2,
   "id": "bf20d012",
   "metadata": {},
   "outputs": [],
   "source": [
    "b=Book(\"Python For Beginners\",'Shalini Pal',500)"
   ]
  },
  {
   "cell_type": "code",
   "execution_count": 3,
   "id": "937e137a",
   "metadata": {},
   "outputs": [
    {
     "name": "stdout",
     "output_type": "stream",
     "text": [
      "Python For Beginners by Shalini Pal\n"
     ]
    }
   ],
   "source": [
    "print(b)"
   ]
  },
  {
   "cell_type": "code",
   "execution_count": 4,
   "id": "0480b9dc",
   "metadata": {},
   "outputs": [
    {
     "data": {
      "text/plain": [
       "'Python For Beginners by Shalini Pal'"
      ]
     },
     "execution_count": 4,
     "metadata": {},
     "output_type": "execute_result"
    }
   ],
   "source": [
    "str(b)"
   ]
  },
  {
   "cell_type": "code",
   "execution_count": 5,
   "id": "d637a3c1",
   "metadata": {},
   "outputs": [
    {
     "data": {
      "text/plain": [
       "500"
      ]
     },
     "execution_count": 5,
     "metadata": {},
     "output_type": "execute_result"
    }
   ],
   "source": [
    "len(b)"
   ]
  },
  {
   "cell_type": "code",
   "execution_count": 6,
   "id": "ef7a4932",
   "metadata": {},
   "outputs": [],
   "source": [
    "del b"
   ]
  }
 ],
 "metadata": {
  "kernelspec": {
   "display_name": "Python 3 (ipykernel)",
   "language": "python",
   "name": "python3"
  },
  "language_info": {
   "codemirror_mode": {
    "name": "ipython",
    "version": 3
   },
   "file_extension": ".py",
   "mimetype": "text/x-python",
   "name": "python",
   "nbconvert_exporter": "python",
   "pygments_lexer": "ipython3",
   "version": "3.11.5"
  }
 },
 "nbformat": 4,
 "nbformat_minor": 5
}
