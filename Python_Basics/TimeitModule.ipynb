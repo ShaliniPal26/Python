{
 "cells": [
  {
   "cell_type": "code",
   "execution_count": 1,
   "id": "3277e7f6",
   "metadata": {},
   "outputs": [],
   "source": [
    "import timeit"
   ]
  },
  {
   "cell_type": "code",
   "execution_count": 5,
   "id": "38162141",
   "metadata": {},
   "outputs": [],
   "source": [
    "import time"
   ]
  },
  {
   "cell_type": "code",
   "execution_count": 2,
   "id": "0afe2270",
   "metadata": {},
   "outputs": [],
   "source": [
    "def sum1(n1,n2):\n",
    "    return (n1+n2)"
   ]
  },
  {
   "cell_type": "code",
   "execution_count": 6,
   "id": "9bf167cf",
   "metadata": {},
   "outputs": [],
   "source": [
    "def sum2(n1,n2):\n",
    "    result = n1 + n2\n",
    "    return result"
   ]
  },
  {
   "cell_type": "code",
   "execution_count": 7,
   "id": "e86397a3",
   "metadata": {},
   "outputs": [
    {
     "ename": "NameError",
     "evalue": "name 'time' is not defined",
     "output_type": "error",
     "traceback": [
      "\u001b[1;31m---------------------------------------------------------------------------\u001b[0m",
      "\u001b[1;31mNameError\u001b[0m                                 Traceback (most recent call last)",
      "Cell \u001b[1;32mIn[7], line 2\u001b[0m\n\u001b[0;32m      1\u001b[0m \u001b[38;5;66;03m#start time\u001b[39;00m\n\u001b[1;32m----> 2\u001b[0m start_time\u001b[38;5;241m=\u001b[39m\u001b[43mtime\u001b[49m\u001b[38;5;241m.\u001b[39mtime()\n\u001b[0;32m      4\u001b[0m \u001b[38;5;66;03m#code running\u001b[39;00m\n\u001b[0;32m      5\u001b[0m sum1(\u001b[38;5;241m40\u001b[39m,\u001b[38;5;241m30\u001b[39m)\n",
      "\u001b[1;31mNameError\u001b[0m: name 'time' is not defined"
     ]
    }
   ],
   "source": [
    "#start time\n",
    "start_time=time.time()\n",
    "\n",
    "#code running\n",
    "sum1(40,30)\n",
    "\n",
    "#end time\n",
    "end_time=time.time()\n",
    "\n",
    "#time_elapsed\n",
    "time_elapsed=end_time-start_time\n",
    "print(\"Time elapsed : \")\n",
    "print(time_elapsed)"
   ]
  },
  {
   "cell_type": "code",
   "execution_count": null,
   "id": "d7cf48ac",
   "metadata": {},
   "outputs": [],
   "source": []
  },
  {
   "cell_type": "code",
   "execution_count": 14,
   "id": "2035ce2a",
   "metadata": {},
   "outputs": [],
   "source": [
    "import timeit"
   ]
  },
  {
   "cell_type": "markdown",
   "id": "74fe401a",
   "metadata": {},
   "source": [
    "checking time taken by sum1 using timeit module"
   ]
  },
  {
   "cell_type": "code",
   "execution_count": 18,
   "id": "a12d386d",
   "metadata": {},
   "outputs": [
    {
     "data": {
      "text/plain": [
       "3.5829492999982904"
      ]
     },
     "execution_count": 18,
     "metadata": {},
     "output_type": "execute_result"
    }
   ],
   "source": [
    "stmt1='''\n",
    "sum1(30,8000)\n",
    "'''\n",
    "\n",
    "setup1='''\n",
    "def sum1(n1,n2):\n",
    "    return (n1+n2)\n",
    "'''\n",
    "\n",
    "timeit.timeit(stmt1,setup1,number=10000000)"
   ]
  },
  {
   "cell_type": "markdown",
   "id": "bb7a6118",
   "metadata": {},
   "source": [
    "checking time taken by sum2 using timeit module"
   ]
  },
  {
   "cell_type": "code",
   "execution_count": 19,
   "id": "54669816",
   "metadata": {},
   "outputs": [
    {
     "data": {
      "text/plain": [
       "3.9185123999995994"
      ]
     },
     "execution_count": 19,
     "metadata": {},
     "output_type": "execute_result"
    }
   ],
   "source": [
    "stmt1='''\n",
    "sum2(30,8000)\n",
    "'''\n",
    "\n",
    "setup1='''\n",
    "def sum2(n1,n2):\n",
    "    result = n1 + n2\n",
    "    return result\n",
    "'''\n",
    "\n",
    "timeit.timeit(stmt1,setup1,number=10000000)"
   ]
  },
  {
   "cell_type": "markdown",
   "id": "7e5eff30",
   "metadata": {},
   "source": [
    "Above proves that sum1 is taking less time than sum2 using timeit module"
   ]
  },
  {
   "cell_type": "markdown",
   "id": "e29b9fbe",
   "metadata": {},
   "source": [
    "The below example worksonly for Jupyter,for other platforms like Pycharm you have to import and use the timeit module"
   ]
  },
  {
   "cell_type": "code",
   "execution_count": 4,
   "id": "6e06c0ed",
   "metadata": {},
   "outputs": [
    {
     "name": "stdout",
     "output_type": "stream",
     "text": [
      "281 ns ± 37.4 ns per loop (mean ± std. dev. of 7 runs, 1,000,000 loops each)\n"
     ]
    }
   ],
   "source": [
    "\n",
    "%%timeit\n",
    "sum1(20,20)"
   ]
  },
  {
   "cell_type": "code",
   "execution_count": 8,
   "id": "27b567cb",
   "metadata": {},
   "outputs": [
    {
     "name": "stdout",
     "output_type": "stream",
     "text": [
      "280 ns ± 6.12 ns per loop (mean ± std. dev. of 7 runs, 1,000,000 loops each)\n"
     ]
    }
   ],
   "source": [
    "%%timeit\n",
    "sum2(20,20)"
   ]
  }
 ],
 "metadata": {
  "kernelspec": {
   "display_name": "Python 3 (ipykernel)",
   "language": "python",
   "name": "python3"
  },
  "language_info": {
   "codemirror_mode": {
    "name": "ipython",
    "version": 3
   },
   "file_extension": ".py",
   "mimetype": "text/x-python",
   "name": "python",
   "nbconvert_exporter": "python",
   "pygments_lexer": "ipython3",
   "version": "3.11.5"
  }
 },
 "nbformat": 4,
 "nbformat_minor": 5
}
