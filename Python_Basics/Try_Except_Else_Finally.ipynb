{
 "cells": [
  {
   "cell_type": "code",
   "execution_count": 1,
   "id": "85bede0b",
   "metadata": {},
   "outputs": [],
   "source": [
    "def add(n1,n2):\n",
    "    try:\n",
    "        result=int(input(\"Please enter a number ::\"))\n",
    "    except :\n",
    "        print(\"Please enter a valid number\")\n",
    "    else:\n",
    "        print(f\"Result ={result}\")\n",
    "    finally:\n",
    "        print(\"This block always executes no matter what\")"
   ]
  },
  {
   "cell_type": "code",
   "execution_count": 2,
   "id": "223e9912",
   "metadata": {},
   "outputs": [
    {
     "name": "stdout",
     "output_type": "stream",
     "text": [
      "Please enter a number ::1\n",
      "Result =1\n",
      "This block always executes no matter what\n"
     ]
    }
   ],
   "source": [
    "add(1,2)"
   ]
  },
  {
   "cell_type": "code",
   "execution_count": 3,
   "id": "a26c0b70",
   "metadata": {},
   "outputs": [
    {
     "name": "stdout",
     "output_type": "stream",
     "text": [
      "Please enter a number ::d\n",
      "Please enter a valid number\n",
      "This block always executes no matter what\n"
     ]
    }
   ],
   "source": [
    "add(1,'')"
   ]
  }
 ],
 "metadata": {
  "kernelspec": {
   "display_name": "Python 3 (ipykernel)",
   "language": "python",
   "name": "python3"
  },
  "language_info": {
   "codemirror_mode": {
    "name": "ipython",
    "version": 3
   },
   "file_extension": ".py",
   "mimetype": "text/x-python",
   "name": "python",
   "nbconvert_exporter": "python",
   "pygments_lexer": "ipython3",
   "version": "3.11.5"
  }
 },
 "nbformat": 4,
 "nbformat_minor": 5
}
