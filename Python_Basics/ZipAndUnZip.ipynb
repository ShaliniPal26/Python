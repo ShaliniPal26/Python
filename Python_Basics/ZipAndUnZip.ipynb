{
 "cells": [
  {
   "cell_type": "markdown",
   "id": "b022cc62",
   "metadata": {},
   "source": [
    "\n",
    "# Zipping and unzipping files using the ZipFile module"
   ]
  },
  {
   "cell_type": "code",
   "execution_count": 1,
   "id": "a5b008ff",
   "metadata": {},
   "outputs": [],
   "source": [
    "import zipfile"
   ]
  },
  {
   "cell_type": "markdown",
   "id": "fc56387c",
   "metadata": {},
   "source": [
    "Zipping Files"
   ]
  },
  {
   "cell_type": "code",
   "execution_count": 5,
   "id": "342db88d",
   "metadata": {},
   "outputs": [],
   "source": [
    "#creating two files to zip\n",
    "#first file\n",
    "f1=open('file_one.txt','w+')\n",
    "f1.write(\"This is the first file\")\n",
    "f1.close()"
   ]
  },
  {
   "cell_type": "code",
   "execution_count": 6,
   "id": "4967f906",
   "metadata": {},
   "outputs": [],
   "source": [
    "#creating second file\n",
    "f2=open('file_two.txt','w+')\n",
    "f2.write(\"This is the second file\")\n",
    "f2.close()"
   ]
  },
  {
   "cell_type": "code",
   "execution_count": 11,
   "id": "97d8a540",
   "metadata": {},
   "outputs": [],
   "source": [
    "f1f2_zip = zipfile.ZipFile('File1&2.zip','w')\n",
    "f1f2_zip.write('file_one.txt',compress_type=zipfile.ZIP_DEFLATED)\n",
    "f1f2_zip.write('file_two.txt',compress_type=zipfile.ZIP_DEFLATED)\n",
    "f1f2_zip.close()"
   ]
  },
  {
   "cell_type": "code",
   "execution_count": null,
   "id": "3eb5e34d",
   "metadata": {},
   "outputs": [],
   "source": []
  },
  {
   "cell_type": "markdown",
   "id": "5f529a80",
   "metadata": {},
   "source": [
    "Unzipping Files"
   ]
  },
  {
   "cell_type": "code",
   "execution_count": 12,
   "id": "31da5dcf",
   "metadata": {},
   "outputs": [],
   "source": [
    "zip_obj=zipfile.ZipFile('File1&2.zip','r')\n",
    "zip_obj.extractall('extracted_files')"
   ]
  },
  {
   "cell_type": "code",
   "execution_count": null,
   "id": "485020bf",
   "metadata": {},
   "outputs": [],
   "source": []
  },
  {
   "cell_type": "code",
   "execution_count": null,
   "id": "ab6db380",
   "metadata": {},
   "outputs": [],
   "source": []
  },
  {
   "cell_type": "markdown",
   "id": "ded62d43",
   "metadata": {},
   "source": [
    "Zipping and Unzipping using Shutil"
   ]
  },
  {
   "cell_type": "code",
   "execution_count": 13,
   "id": "97438873",
   "metadata": {},
   "outputs": [],
   "source": [
    "import shutil"
   ]
  },
  {
   "cell_type": "code",
   "execution_count": 15,
   "id": "fa12487c",
   "metadata": {},
   "outputs": [
    {
     "data": {
      "text/plain": [
       "'C:\\\\Users\\\\Admin\\\\Shalini\\\\MODULES\\\\my_zip.zip'"
      ]
     },
     "execution_count": 15,
     "metadata": {},
     "output_type": "execute_result"
    }
   ],
   "source": [
    "shutil.make_archive('my_zip','zip','C:\\\\Users\\\\Admin\\\\Shalini\\\\MODULES')"
   ]
  },
  {
   "cell_type": "code",
   "execution_count": 19,
   "id": "8e557063",
   "metadata": {},
   "outputs": [
    {
     "ename": "ReadError",
     "evalue": "Unknown archive format 'my_zip'",
     "output_type": "error",
     "traceback": [
      "\u001b[1;31m---------------------------------------------------------------------------\u001b[0m",
      "\u001b[1;31mReadError\u001b[0m                                 Traceback (most recent call last)",
      "Cell \u001b[1;32mIn[19], line 1\u001b[0m\n\u001b[1;32m----> 1\u001b[0m \u001b[43mshutil\u001b[49m\u001b[38;5;241;43m.\u001b[39;49m\u001b[43munpack_archive\u001b[49m\u001b[43m(\u001b[49m\u001b[38;5;124;43m'\u001b[39;49m\u001b[38;5;124;43mmy_zip\u001b[39;49m\u001b[38;5;124;43m'\u001b[39;49m\u001b[43m,\u001b[49m\u001b[38;5;124;43m'\u001b[39;49m\u001b[38;5;124;43mzip\u001b[39;49m\u001b[38;5;124;43m'\u001b[39;49m\u001b[43m)\u001b[49m\n",
      "File \u001b[1;32m~\\anaconda3\\lib\\shutil.py:1303\u001b[0m, in \u001b[0;36munpack_archive\u001b[1;34m(filename, extract_dir, format)\u001b[0m\n\u001b[0;32m   1301\u001b[0m \u001b[38;5;28mformat\u001b[39m \u001b[38;5;241m=\u001b[39m _find_unpack_format(filename)\n\u001b[0;32m   1302\u001b[0m \u001b[38;5;28;01mif\u001b[39;00m \u001b[38;5;28mformat\u001b[39m \u001b[38;5;129;01mis\u001b[39;00m \u001b[38;5;28;01mNone\u001b[39;00m:\n\u001b[1;32m-> 1303\u001b[0m     \u001b[38;5;28;01mraise\u001b[39;00m ReadError(\u001b[38;5;124m\"\u001b[39m\u001b[38;5;124mUnknown archive format \u001b[39m\u001b[38;5;124m'\u001b[39m\u001b[38;5;132;01m{0}\u001b[39;00m\u001b[38;5;124m'\u001b[39m\u001b[38;5;124m\"\u001b[39m\u001b[38;5;241m.\u001b[39mformat(filename))\n\u001b[0;32m   1305\u001b[0m func \u001b[38;5;241m=\u001b[39m _UNPACK_FORMATS[\u001b[38;5;28mformat\u001b[39m][\u001b[38;5;241m1\u001b[39m]\n\u001b[0;32m   1306\u001b[0m kwargs \u001b[38;5;241m=\u001b[39m \u001b[38;5;28mdict\u001b[39m(_UNPACK_FORMATS[\u001b[38;5;28mformat\u001b[39m][\u001b[38;5;241m2\u001b[39m])\n",
      "\u001b[1;31mReadError\u001b[0m: Unknown archive format 'my_zip'"
     ]
    }
   ],
   "source": [
    "shutil.unpack_archive('my_zip','zip')"
   ]
  },
  {
   "cell_type": "code",
   "execution_count": null,
   "id": "aeefa92d",
   "metadata": {},
   "outputs": [],
   "source": []
  }
 ],
 "metadata": {
  "kernelspec": {
   "display_name": "Python 3 (ipykernel)",
   "language": "python",
   "name": "python3"
  },
  "language_info": {
   "codemirror_mode": {
    "name": "ipython",
    "version": 3
   },
   "file_extension": ".py",
   "mimetype": "text/x-python",
   "name": "python",
   "nbconvert_exporter": "python",
   "pygments_lexer": "ipython3",
   "version": "3.11.5"
  }
 },
 "nbformat": 4,
 "nbformat_minor": 5
}
