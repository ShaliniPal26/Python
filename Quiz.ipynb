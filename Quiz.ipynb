{
 "cells": [
  {
   "cell_type": "code",
   "execution_count": 2,
   "id": "5717d04f",
   "metadata": {},
   "outputs": [
    {
     "name": "stdout",
     "output_type": "stream",
     "text": [
      " Welcome To My Quiz Game \n",
      " Interesting Game to Play\n",
      "Enter Your Name: sAS\n",
      "Let's Start the Game sAS :) \n",
      " What does CPU stands for? \n",
      " S\n",
      "Wrong\n",
      " What does GPU stands for? \n",
      " A\n",
      "Wrong\n",
      " What does RAM stands for? \n",
      " A\n",
      "Wrong\n",
      " What does ROM stands for? \n",
      " A\n",
      "Wrong\n",
      " Mouse is an input device or an output device? \n",
      " A\n",
      "Wrong\n",
      "sAS you have got 0 correct answer(s)\n",
      "Your score is 0.0%\n",
      " Do you want to play again? \n",
      "YES\n"
     ]
    },
    {
     "ename": "KeyboardInterrupt",
     "evalue": "Interrupted by user",
     "output_type": "error",
     "traceback": [
      "\u001b[1;31m---------------------------------------------------------------------------\u001b[0m",
      "\u001b[1;31mKeyboardInterrupt\u001b[0m                         Traceback (most recent call last)",
      "Cell \u001b[1;32mIn[2], line 15\u001b[0m\n\u001b[0;32m     11\u001b[0m \u001b[38;5;28;01mwhile\u001b[39;00m game_on:\n\u001b[0;32m     13\u001b[0m     score \u001b[38;5;241m=\u001b[39m \u001b[38;5;241m0\u001b[39m\n\u001b[1;32m---> 15\u001b[0m     answer \u001b[38;5;241m=\u001b[39m \u001b[38;5;28minput\u001b[39m(\u001b[38;5;124m'\u001b[39m\u001b[38;5;124m What does CPU stands for? \u001b[39m\u001b[38;5;130;01m\\n\u001b[39;00m\u001b[38;5;124m \u001b[39m\u001b[38;5;124m'\u001b[39m)\n\u001b[0;32m     16\u001b[0m     \u001b[38;5;28;01mif\u001b[39;00m answer\u001b[38;5;241m.\u001b[39mlower() \u001b[38;5;241m==\u001b[39m \u001b[38;5;124m'\u001b[39m\u001b[38;5;124mcentral processing unit\u001b[39m\u001b[38;5;124m'\u001b[39m:\n\u001b[0;32m     17\u001b[0m         \u001b[38;5;28mprint\u001b[39m(\u001b[38;5;124m\"\u001b[39m\u001b[38;5;124mCorrect\u001b[39m\u001b[38;5;124m\"\u001b[39m)\n",
      "File \u001b[1;32m~\\anaconda3\\Lib\\site-packages\\ipykernel\\kernelbase.py:1202\u001b[0m, in \u001b[0;36mKernel.raw_input\u001b[1;34m(self, prompt)\u001b[0m\n\u001b[0;32m   1200\u001b[0m     msg \u001b[38;5;241m=\u001b[39m \u001b[38;5;124m\"\u001b[39m\u001b[38;5;124mraw_input was called, but this frontend does not support input requests.\u001b[39m\u001b[38;5;124m\"\u001b[39m\n\u001b[0;32m   1201\u001b[0m     \u001b[38;5;28;01mraise\u001b[39;00m StdinNotImplementedError(msg)\n\u001b[1;32m-> 1202\u001b[0m \u001b[38;5;28;01mreturn\u001b[39;00m \u001b[38;5;28mself\u001b[39m\u001b[38;5;241m.\u001b[39m_input_request(\n\u001b[0;32m   1203\u001b[0m     \u001b[38;5;28mstr\u001b[39m(prompt),\n\u001b[0;32m   1204\u001b[0m     \u001b[38;5;28mself\u001b[39m\u001b[38;5;241m.\u001b[39m_parent_ident[\u001b[38;5;124m\"\u001b[39m\u001b[38;5;124mshell\u001b[39m\u001b[38;5;124m\"\u001b[39m],\n\u001b[0;32m   1205\u001b[0m     \u001b[38;5;28mself\u001b[39m\u001b[38;5;241m.\u001b[39mget_parent(\u001b[38;5;124m\"\u001b[39m\u001b[38;5;124mshell\u001b[39m\u001b[38;5;124m\"\u001b[39m),\n\u001b[0;32m   1206\u001b[0m     password\u001b[38;5;241m=\u001b[39m\u001b[38;5;28;01mFalse\u001b[39;00m,\n\u001b[0;32m   1207\u001b[0m )\n",
      "File \u001b[1;32m~\\anaconda3\\Lib\\site-packages\\ipykernel\\kernelbase.py:1245\u001b[0m, in \u001b[0;36mKernel._input_request\u001b[1;34m(self, prompt, ident, parent, password)\u001b[0m\n\u001b[0;32m   1242\u001b[0m \u001b[38;5;28;01mexcept\u001b[39;00m \u001b[38;5;167;01mKeyboardInterrupt\u001b[39;00m:\n\u001b[0;32m   1243\u001b[0m     \u001b[38;5;66;03m# re-raise KeyboardInterrupt, to truncate traceback\u001b[39;00m\n\u001b[0;32m   1244\u001b[0m     msg \u001b[38;5;241m=\u001b[39m \u001b[38;5;124m\"\u001b[39m\u001b[38;5;124mInterrupted by user\u001b[39m\u001b[38;5;124m\"\u001b[39m\n\u001b[1;32m-> 1245\u001b[0m     \u001b[38;5;28;01mraise\u001b[39;00m \u001b[38;5;167;01mKeyboardInterrupt\u001b[39;00m(msg) \u001b[38;5;28;01mfrom\u001b[39;00m \u001b[38;5;28;01mNone\u001b[39;00m\n\u001b[0;32m   1246\u001b[0m \u001b[38;5;28;01mexcept\u001b[39;00m \u001b[38;5;167;01mException\u001b[39;00m:\n\u001b[0;32m   1247\u001b[0m     \u001b[38;5;28mself\u001b[39m\u001b[38;5;241m.\u001b[39mlog\u001b[38;5;241m.\u001b[39mwarning(\u001b[38;5;124m\"\u001b[39m\u001b[38;5;124mInvalid Message:\u001b[39m\u001b[38;5;124m\"\u001b[39m, exc_info\u001b[38;5;241m=\u001b[39m\u001b[38;5;28;01mTrue\u001b[39;00m)\n",
      "\u001b[1;31mKeyboardInterrupt\u001b[0m: Interrupted by user"
     ]
    }
   ],
   "source": [
    "print(\" Welcome To My Quiz Game \\n Interesting Game to Play\")\n",
    "\n",
    "\n",
    "\n",
    "name_player = input(\"Enter Your Name: \")\n",
    "\n",
    "print(\"Let's Start the Game {} :) \".format(name_player))\n",
    "\n",
    "game_on=True\n",
    "\n",
    "while game_on:\n",
    "\n",
    "    score = 0\n",
    "\n",
    "    answer = input(' What does CPU stands for? \\n ')\n",
    "    if answer.lower() == 'central processing unit':\n",
    "        print(\"Correct\")\n",
    "        score += 1\n",
    "    else:\n",
    "        print('Wrong')\n",
    "\n",
    "    answer = input(' What does GPU stands for? \\n ')\n",
    "    if answer.lower() == 'graphical processing unit':\n",
    "        print(\"Correct\")\n",
    "        score += 1\n",
    "    else:\n",
    "        print('Wrong')\n",
    "\n",
    "    answer = input(' What does RAM stands for? \\n ')\n",
    "    if answer.lower() == 'random access memory':\n",
    "        print(\"Correct\")\n",
    "        score += 1\n",
    "    else:\n",
    "        print('Wrong')\n",
    "\n",
    "    answer = input(' What does ROM stands for? \\n ')\n",
    "    if answer.lower() == 'read only memory':\n",
    "        print(\"Correct\")\n",
    "        score += 1\n",
    "    else:\n",
    "        print('Wrong')\n",
    "\n",
    "    answer = input(' Mouse is an input device or an output device? \\n ')\n",
    "    if answer.lower() == 'input device':\n",
    "        print(\"Correct\")\n",
    "        score += 1\n",
    "    else:\n",
    "        print('Wrong')\n",
    "\n",
    "    print(\"{} you have got {} correct answer(s)\".format(name_player,score))\n",
    "    print(\"Your score is {}%\".format((score/5*100)))\n",
    "    \n",
    "    player_input = str.lower(input(\" Do you want to play again? \\n\" ))\n",
    "\n",
    "    if player_input=='yes':\n",
    "        game_on=True\n",
    "    else:\n",
    "        game_on=False\n",
    "        \n",
    "print(\"Thank you for playing\")"
   ]
  }
 ],
 "metadata": {
  "kernelspec": {
   "display_name": "Python 3 (ipykernel)",
   "language": "python",
   "name": "python3"
  },
  "language_info": {
   "codemirror_mode": {
    "name": "ipython",
    "version": 3
   },
   "file_extension": ".py",
   "mimetype": "text/x-python",
   "name": "python",
   "nbconvert_exporter": "python",
   "pygments_lexer": "ipython3",
   "version": "3.11.5"
  }
 },
 "nbformat": 4,
 "nbformat_minor": 5
}
